{
  "nbformat": 4,
  "nbformat_minor": 0,
  "metadata": {
    "colab": {
      "provenance": []
    },
    "kernelspec": {
      "name": "python3",
      "display_name": "Python 3"
    },
    "language_info": {
      "name": "python"
    }
  },
  "cells": [
    {
      "cell_type": "code",
      "execution_count": 4,
      "metadata": {
        "colab": {
          "base_uri": "https://localhost:8080/"
        },
        "id": "_OBPfWxvb84N",
        "outputId": "bc7819ed-f85d-4086-9d1a-d52931287bfe"
      },
      "outputs": [
        {
          "output_type": "stream",
          "name": "stdout",
          "text": [
            "   age           job  marital  education default  balance housing loan  \\\n",
            "0   58    management  married   tertiary      no     2143     yes   no   \n",
            "1   44    technician   single  secondary      no       29     yes   no   \n",
            "2   33  entrepreneur  married  secondary      no        2     yes  yes   \n",
            "3   47   blue-collar  married        NaN      no     1506     yes   no   \n",
            "4   33           NaN   single        NaN      no        1      no   no   \n",
            "\n",
            "  contact  day month  duration  campaign  pdays  previous poutcome   y  \n",
            "0     NaN    5   may       261         1     -1         0      NaN  no  \n",
            "1     NaN    5   may       151         1     -1         0      NaN  no  \n",
            "2     NaN    5   may        76         1     -1         0      NaN  no  \n",
            "3     NaN    5   may        92         1     -1         0      NaN  no  \n",
            "4     NaN    5   may       198         1     -1         0      NaN  no  \n",
            "(45211, 17)\n",
            "Index(['age', 'job', 'marital', 'education', 'default', 'balance', 'housing',\n",
            "       'loan', 'contact', 'day', 'month', 'duration', 'campaign', 'pdays',\n",
            "       'previous', 'poutcome', 'y'],\n",
            "      dtype='object')\n",
            "y\n",
            "0    28628\n",
            "1     3766\n",
            "Name: count, dtype: int64\n",
            "Confusion Matrix:\n",
            " [[9537    7]\n",
            " [1244   11]]\n",
            "Accuracy: 0.8841559403648486\n",
            "Recall: 0.008764940239043825\n",
            "Số lượng lớp sau SMOTE: [28628 28628]\n",
            "Confusion Matrix with SMOTE:\n",
            " [[7547 1997]\n",
            " [ 373  882]]\n",
            "Accuracy with SMOTE: 0.7805352347439578\n",
            "Recall with SMOTE: 0.7027888446215139\n",
            "Số lượng lớp sau NearMiss: [3766 3766]\n",
            "Confusion Matrix with NearMiss:\n",
            " [[4949 4595]\n",
            " [ 212 1043]]\n",
            "Accuracy with NearMiss: 0.5548661913140106\n"
          ]
        }
      ],
      "source": [
        "# Khuyến nghị: học viên nên sử dụng Google Colab\n",
        "import numpy as np\n",
        "import pandas as pd\n",
        "from sklearn.linear_model import LogisticRegression\n",
        "from sklearn.model_selection import train_test_split\n",
        "from sklearn.metrics import accuracy_score, confusion_matrix, recall_score\n",
        "from imblearn.over_sampling import SMOTE\n",
        "from imblearn.under_sampling import NearMiss\n",
        "from sklearn import svm\n",
        "\n",
        "# Load dữ liệu\n",
        "bank = pd.read_csv(\"https://raw.githubusercontent.com/ltdaovn/dataset/master/bank/bank-full.csv\", sep=\";\", na_values=\"unknown\")\n",
        "\n",
        "# Kiểm tra dữ liệu\n",
        "print(bank.head())\n",
        "print(bank.shape)\n",
        "print(bank.columns)\n",
        "\n",
        "# Chuyển đổi dữ liệu thành dạng số\n",
        "bank[\"default\"] = bank[\"default\"].map({\"no\": 0, \"yes\": 1})\n",
        "bank[\"housing\"] = bank[\"housing\"].map({\"no\": 0, \"yes\": 1})\n",
        "bank[\"loan\"] = bank[\"loan\"].map({\"no\": 0, \"yes\": 1})\n",
        "bank[\"y\"] = bank[\"y\"].map({\"no\": 0, \"yes\": 1})\n",
        "bank[\"education\"] = bank[\"education\"].map({\"primary\": 0, \"secondary\": 1, \"tertiary\": 2})\n",
        "bank[\"month\"] = pd.to_datetime(bank[\"month\"], format=\"%b\").dt.month\n",
        "\n",
        "# Xử lý các giá trị thiếu và loại bỏ cột không cần thiết\n",
        "bank.drop([\"poutcome\", \"contact\"], axis=1, inplace=True)\n",
        "bank.dropna(inplace=True)\n",
        "\n",
        "# Tạo các biến giả cho các cột phân loại\n",
        "bank = pd.get_dummies(bank, drop_first=True)\n",
        "\n",
        "# Phân chia dữ liệu\n",
        "X = bank.drop(\"y\", axis=1)\n",
        "y = bank[\"y\"]\n",
        "X_train, X_test, y_train, y_test = train_test_split(X, y, random_state=1, stratify=y)\n",
        "\n",
        "# Kiểm tra số lượng lớp trong tập huấn luyện\n",
        "print(y_train.value_counts())\n",
        "\n",
        "# Huấn luyện mô hình SVM không xử lý mất cân bằng\n",
        "model = svm.SVC()\n",
        "model.fit(X_train, y_train)\n",
        "y_pred = model.predict(X_test)\n",
        "\n",
        "# Đánh giá mô hình\n",
        "print(\"Confusion Matrix:\\n\", confusion_matrix(y_test, y_pred))\n",
        "print(\"Accuracy:\", accuracy_score(y_test, y_pred))\n",
        "print(\"Recall:\", recall_score(y_test, y_pred))\n",
        "\n",
        "# Sử dụng kỹ thuật SMOTE để xử lý mất cân bằng\n",
        "X_train, X_test, y_train, y_test = train_test_split(X, y, random_state=1, stratify=y)\n",
        "smt = SMOTE()\n",
        "X_train, y_train = smt.fit_resample(X_train, y_train)\n",
        "print(\"Số lượng lớp sau SMOTE:\", np.bincount(y_train))\n",
        "\n",
        "# Huấn luyện và đánh giá mô hình SVM với SMOTE\n",
        "model = svm.SVC()\n",
        "model.fit(X_train, y_train)\n",
        "y_pred = model.predict(X_test)\n",
        "print(\"Confusion Matrix with SMOTE:\\n\", confusion_matrix(y_test, y_pred))\n",
        "print(\"Accuracy with SMOTE:\", accuracy_score(y_test, y_pred))\n",
        "print(\"Recall with SMOTE:\", recall_score(y_test, y_pred))\n",
        "\n",
        "# Sử dụng kỹ thuật NearMiss để xử lý mất cân bằng\n",
        "X_train, X_test, y_train, y_test = train_test_split(X, y, random_state=1, stratify=y)\n",
        "nr = NearMiss()\n",
        "X_train, y_train = nr.fit_resample(X_train, y_train)\n",
        "print(\"Số lượng lớp sau NearMiss:\", np.bincount(y_train))\n",
        "\n",
        "# Huấn luyện và đánh giá mô hình SVM với NearMiss\n",
        "model = svm.SVC()\n",
        "model.fit(X_train, y_train)\n",
        "y_pred = model.predict(X_test)\n",
        "print(\"Confusion Matrix with NearMiss:\\n\", confusion_matrix(y_test, y_pred))\n",
        "print(\"Accuracy with NearMiss:\", accuracy_score(y_test, y_pred))\n"
      ]
    },
    {
      "cell_type": "markdown",
      "source": [
        "a)Tập dữ liệu có: 45,211 hàng và 17 cột.\n",
        "\n",
        "b)Tập dữ liệu có 45,211 khách hàng.\n",
        "Số khách hàng đăng ký dịch vụ (subscribed): 3,766.\n",
        "Số khách hàng không đăng ký dịch vụ (not subscribed): 28,628.\n",
        "\n",
        "c)job: 288 dữ liệu rỗng\n",
        "education: 1,186 dữ liệu rỗng\n",
        "contact: 12,921 dữ liệu rỗng\n",
        "poutcome: 31,604 dữ liệu rỗng\n",
        "\n",
        "d)Dữ liệu không cân bằng là dữ liệu có sự khác biệt lớn trong số lượng của các lớp (ví dụ, một lớp có nhiều mẫu hơn lớp còn lại). Điều này thường khiến mô hình học không tốt với lớp ít mẫu.\n",
        "\n",
        "Các phương pháp cân bằng dữ liệu:\n",
        "\n",
        "SMOTE (Synthetic Minority Over-sampling Technique): Tạo các mẫu dữ liệu giả bằng cách nội suy giữa các mẫu thiểu số gần nhau. SMOTE giúp tăng số lượng mẫu trong lớp thiểu số để cân bằng.\n",
        "NearMiss: Loại bỏ bớt các mẫu từ lớp đa số. NearMiss chọn các mẫu đa số gần nhất với các mẫu thiểu số để cân bằng số lượng mẫu giữa các lớp.\n",
        "Random Over-sampling: Nhân đôi ngẫu nhiên các mẫu thiểu số cho đến khi cân bằng.\n",
        "Random Under-sampling: Loại bỏ ngẫu nhiên các mẫu từ lớp đa số để đạt cân bằng.\n",
        "\n",
        "e)\n",
        "subscribed\t28,628\t3,766\n",
        "not subscribed\t28,628\t3,766\n",
        "\n",
        "f)\n",
        "\n",
        "Phương pháp\t         Accuracy\tRecall\n",
        "\n",
        "Dữ liệu mất cân bằng\t88.4%\t  0.88%\n",
        "\n",
        "SMOTE\t                78.1%\t  70.3%\n",
        "\n",
        "NearMiss\t            55.5%\t  83.1%\n"
      ],
      "metadata": {
        "id": "v6NiJaCWZkDC"
      }
    },
    {
      "cell_type": "code",
      "source": [
        "import pandas as pd\n",
        "\n",
        "from google.colab import drive\n",
        "drive.mount('/content/drive')\n",
        "\n",
        "# Tải dữ liệu\n",
        "data = pd.read_csv(\"/content/drive/My Drive/B2106842_lab5_viz/creditcard.csv\")\n",
        "\n",
        "# Kiểm tra tổng quan dữ liệu\n",
        "print(data.info())\n",
        "print(data.head())\n",
        "print(data.describe())\n",
        "\n"
      ],
      "metadata": {
        "colab": {
          "base_uri": "https://localhost:8080/"
        },
        "id": "RCv94B5giPbs",
        "outputId": "8afa12ef-c5e2-4a49-9360-8ea7beecf74b"
      },
      "execution_count": 1,
      "outputs": [
        {
          "output_type": "stream",
          "name": "stdout",
          "text": [
            "Mounted at /content/drive\n",
            "<class 'pandas.core.frame.DataFrame'>\n",
            "RangeIndex: 284807 entries, 0 to 284806\n",
            "Data columns (total 31 columns):\n",
            " #   Column  Non-Null Count   Dtype  \n",
            "---  ------  --------------   -----  \n",
            " 0   Time    284807 non-null  float64\n",
            " 1   V1      284807 non-null  float64\n",
            " 2   V2      284807 non-null  float64\n",
            " 3   V3      284807 non-null  float64\n",
            " 4   V4      284807 non-null  float64\n",
            " 5   V5      284807 non-null  float64\n",
            " 6   V6      284807 non-null  float64\n",
            " 7   V7      284807 non-null  float64\n",
            " 8   V8      284807 non-null  float64\n",
            " 9   V9      284807 non-null  float64\n",
            " 10  V10     284807 non-null  float64\n",
            " 11  V11     284807 non-null  float64\n",
            " 12  V12     284807 non-null  float64\n",
            " 13  V13     284807 non-null  float64\n",
            " 14  V14     284807 non-null  float64\n",
            " 15  V15     284807 non-null  float64\n",
            " 16  V16     284807 non-null  float64\n",
            " 17  V17     284807 non-null  float64\n",
            " 18  V18     284807 non-null  float64\n",
            " 19  V19     284807 non-null  float64\n",
            " 20  V20     284807 non-null  float64\n",
            " 21  V21     284807 non-null  float64\n",
            " 22  V22     284807 non-null  float64\n",
            " 23  V23     284807 non-null  float64\n",
            " 24  V24     284807 non-null  float64\n",
            " 25  V25     284807 non-null  float64\n",
            " 26  V26     284807 non-null  float64\n",
            " 27  V27     284807 non-null  float64\n",
            " 28  V28     284807 non-null  float64\n",
            " 29  Amount  284807 non-null  float64\n",
            " 30  Class   284807 non-null  int64  \n",
            "dtypes: float64(30), int64(1)\n",
            "memory usage: 67.4 MB\n",
            "None\n",
            "   Time        V1        V2        V3        V4        V5        V6        V7  \\\n",
            "0   0.0 -1.359807 -0.072781  2.536347  1.378155 -0.338321  0.462388  0.239599   \n",
            "1   0.0  1.191857  0.266151  0.166480  0.448154  0.060018 -0.082361 -0.078803   \n",
            "2   1.0 -1.358354 -1.340163  1.773209  0.379780 -0.503198  1.800499  0.791461   \n",
            "3   1.0 -0.966272 -0.185226  1.792993 -0.863291 -0.010309  1.247203  0.237609   \n",
            "4   2.0 -1.158233  0.877737  1.548718  0.403034 -0.407193  0.095921  0.592941   \n",
            "\n",
            "         V8        V9  ...       V21       V22       V23       V24       V25  \\\n",
            "0  0.098698  0.363787  ... -0.018307  0.277838 -0.110474  0.066928  0.128539   \n",
            "1  0.085102 -0.255425  ... -0.225775 -0.638672  0.101288 -0.339846  0.167170   \n",
            "2  0.247676 -1.514654  ...  0.247998  0.771679  0.909412 -0.689281 -0.327642   \n",
            "3  0.377436 -1.387024  ... -0.108300  0.005274 -0.190321 -1.175575  0.647376   \n",
            "4 -0.270533  0.817739  ... -0.009431  0.798278 -0.137458  0.141267 -0.206010   \n",
            "\n",
            "        V26       V27       V28  Amount  Class  \n",
            "0 -0.189115  0.133558 -0.021053  149.62      0  \n",
            "1  0.125895 -0.008983  0.014724    2.69      0  \n",
            "2 -0.139097 -0.055353 -0.059752  378.66      0  \n",
            "3 -0.221929  0.062723  0.061458  123.50      0  \n",
            "4  0.502292  0.219422  0.215153   69.99      0  \n",
            "\n",
            "[5 rows x 31 columns]\n",
            "                Time            V1            V2            V3            V4  \\\n",
            "count  284807.000000  2.848070e+05  2.848070e+05  2.848070e+05  2.848070e+05   \n",
            "mean    94813.859575  1.168375e-15  3.416908e-16 -1.379537e-15  2.074095e-15   \n",
            "std     47488.145955  1.958696e+00  1.651309e+00  1.516255e+00  1.415869e+00   \n",
            "min         0.000000 -5.640751e+01 -7.271573e+01 -4.832559e+01 -5.683171e+00   \n",
            "25%     54201.500000 -9.203734e-01 -5.985499e-01 -8.903648e-01 -8.486401e-01   \n",
            "50%     84692.000000  1.810880e-02  6.548556e-02  1.798463e-01 -1.984653e-02   \n",
            "75%    139320.500000  1.315642e+00  8.037239e-01  1.027196e+00  7.433413e-01   \n",
            "max    172792.000000  2.454930e+00  2.205773e+01  9.382558e+00  1.687534e+01   \n",
            "\n",
            "                 V5            V6            V7            V8            V9  \\\n",
            "count  2.848070e+05  2.848070e+05  2.848070e+05  2.848070e+05  2.848070e+05   \n",
            "mean   9.604066e-16  1.487313e-15 -5.556467e-16  1.213481e-16 -2.406331e-15   \n",
            "std    1.380247e+00  1.332271e+00  1.237094e+00  1.194353e+00  1.098632e+00   \n",
            "min   -1.137433e+02 -2.616051e+01 -4.355724e+01 -7.321672e+01 -1.343407e+01   \n",
            "25%   -6.915971e-01 -7.682956e-01 -5.540759e-01 -2.086297e-01 -6.430976e-01   \n",
            "50%   -5.433583e-02 -2.741871e-01  4.010308e-02  2.235804e-02 -5.142873e-02   \n",
            "75%    6.119264e-01  3.985649e-01  5.704361e-01  3.273459e-01  5.971390e-01   \n",
            "max    3.480167e+01  7.330163e+01  1.205895e+02  2.000721e+01  1.559499e+01   \n",
            "\n",
            "       ...           V21           V22           V23           V24  \\\n",
            "count  ...  2.848070e+05  2.848070e+05  2.848070e+05  2.848070e+05   \n",
            "mean   ...  1.654067e-16 -3.568593e-16  2.578648e-16  4.473266e-15   \n",
            "std    ...  7.345240e-01  7.257016e-01  6.244603e-01  6.056471e-01   \n",
            "min    ... -3.483038e+01 -1.093314e+01 -4.480774e+01 -2.836627e+00   \n",
            "25%    ... -2.283949e-01 -5.423504e-01 -1.618463e-01 -3.545861e-01   \n",
            "50%    ... -2.945017e-02  6.781943e-03 -1.119293e-02  4.097606e-02   \n",
            "75%    ...  1.863772e-01  5.285536e-01  1.476421e-01  4.395266e-01   \n",
            "max    ...  2.720284e+01  1.050309e+01  2.252841e+01  4.584549e+00   \n",
            "\n",
            "                V25           V26           V27           V28         Amount  \\\n",
            "count  2.848070e+05  2.848070e+05  2.848070e+05  2.848070e+05  284807.000000   \n",
            "mean   5.340915e-16  1.683437e-15 -3.660091e-16 -1.227390e-16      88.349619   \n",
            "std    5.212781e-01  4.822270e-01  4.036325e-01  3.300833e-01     250.120109   \n",
            "min   -1.029540e+01 -2.604551e+00 -2.256568e+01 -1.543008e+01       0.000000   \n",
            "25%   -3.171451e-01 -3.269839e-01 -7.083953e-02 -5.295979e-02       5.600000   \n",
            "50%    1.659350e-02 -5.213911e-02  1.342146e-03  1.124383e-02      22.000000   \n",
            "75%    3.507156e-01  2.409522e-01  9.104512e-02  7.827995e-02      77.165000   \n",
            "max    7.519589e+00  3.517346e+00  3.161220e+01  3.384781e+01   25691.160000   \n",
            "\n",
            "               Class  \n",
            "count  284807.000000  \n",
            "mean        0.001727  \n",
            "std         0.041527  \n",
            "min         0.000000  \n",
            "25%         0.000000  \n",
            "50%         0.000000  \n",
            "75%         0.000000  \n",
            "max         1.000000  \n",
            "\n",
            "[8 rows x 31 columns]\n"
          ]
        }
      ]
    },
    {
      "cell_type": "code",
      "source": [
        "import matplotlib.pyplot as plt\n",
        "\n",
        "# Phân phối của cột class\n",
        "class_distribution = data[\"Class\"].value_counts()\n",
        "print(class_distribution)\n",
        "\n",
        "# Hiển thị biểu đồ phân phối\n",
        "plt.figure(figsize=(6,4))\n",
        "class_distribution.plot(kind='bar', color=['blue', 'red'])\n",
        "plt.title(\"Phân phối của lớp trong tập dữ liệu\")\n",
        "plt.xlabel(\"Lớp (Class)\")\n",
        "plt.ylabel(\"Số lượng\")\n",
        "plt.xticks([0, 1], [\"Giao dịch hợp lệ\", \"Giao dịch gian lận\"], rotation=0)\n",
        "plt.show()\n"
      ],
      "metadata": {
        "colab": {
          "base_uri": "https://localhost:8080/",
          "height": 482
        },
        "id": "Qv7fBmKIklHc",
        "outputId": "4e5bdccb-0dad-44ec-b739-3d80993dd3fe"
      },
      "execution_count": 2,
      "outputs": [
        {
          "output_type": "stream",
          "name": "stdout",
          "text": [
            "Class\n",
            "0    284315\n",
            "1       492\n",
            "Name: count, dtype: int64\n"
          ]
        },
        {
          "output_type": "display_data",
          "data": {
            "text/plain": [
              "<Figure size 600x400 with 1 Axes>"
            ],
            "image/png": "[encoded data removed]"
          },
          "metadata": {}
        }
      ]
    },
    {
      "cell_type": "code",
      "source": [
        "from sklearn.model_selection import train_test_split\n",
        "from sklearn.linear_model import LogisticRegression\n",
        "from sklearn.metrics import accuracy_score, recall_score, confusion_matrix\n",
        "\n",
        "# Phân chia dữ liệu\n",
        "X = data.drop(\"Class\", axis=1)\n",
        "y = data[\"Class\"]\n",
        "X_train, X_test, y_train, y_test = train_test_split(X, y, test_size=0.3, random_state=42)\n",
        "\n",
        "# Huấn luyện mô hình\n",
        "model = LogisticRegression(max_iter=2000)\n",
        "model.fit(X_train, y_train)\n",
        "\n",
        "# Dự đoán và đánh giá\n",
        "y_pred = model.predict(X_test)\n",
        "print(\"Confusion Matrix:\\n\", confusion_matrix(y_test, y_pred))\n",
        "print(\"Accuracy:\", accuracy_score(y_test, y_pred))\n",
        "print(\"Recall:\", recall_score(y_test, y_pred))\n"
      ],
      "metadata": {
        "colab": {
          "base_uri": "https://localhost:8080/"
        },
        "id": "hQ_ipohukoI2",
        "outputId": "0f56b2dc-77c6-4a47-f57a-36dc8c9dce31"
      },
      "execution_count": 5,
      "outputs": [
        {
          "output_type": "stream",
          "name": "stdout",
          "text": [
            "Confusion Matrix:\n",
            " [[85293    14]\n",
            " [   51    85]]\n",
            "Accuracy: 0.9992392589211521\n",
            "Recall: 0.625\n"
          ]
        },
        {
          "output_type": "stream",
          "name": "stderr",
          "text": [
            "/usr/local/lib/python3.10/dist-packages/sklearn/linear_model/_logistic.py:469: ConvergenceWarning: lbfgs failed to converge (status=1):\n",
            "STOP: TOTAL NO. of ITERATIONS REACHED LIMIT.\n",
            "\n",
            "Increase the number of iterations (max_iter) or scale the data as shown in:\n",
            "    https://scikit-learn.org/stable/modules/preprocessing.html\n",
            "Please also refer to the documentation for alternative solver options:\n",
            "    https://scikit-learn.org/stable/modules/linear_model.html#logistic-regression\n",
            "  n_iter_i = _check_optimize_result(\n"
          ]
        }
      ]
    },
    {
      "cell_type": "code",
      "source": [
        "from imblearn.over_sampling import SMOTE\n",
        "\n",
        "# Áp dụng SMOTE\n",
        "sm = SMOTE(random_state=42)\n",
        "X_res, y_res = sm.fit_resample(X_train, y_train)\n",
        "\n",
        "# Huấn luyện lại mô hình với dữ liệu đã cân bằng\n",
        "model_smote = LogisticRegression(max_iter=1000)\n",
        "model_smote.fit(X_res, y_res)\n",
        "\n",
        "# Dự đoán và đánh giá\n",
        "y_pred_smote = model_smote.predict(X_test)\n",
        "print(\"Confusion Matrix with SMOTE:\\n\", confusion_matrix(y_test, y_pred_smote))\n",
        "print(\"Accuracy with SMOTE:\", accuracy_score(y_test, y_pred_smote))\n",
        "print(\"Recall with SMOTE:\", recall_score(y_test, y_pred_smote))\n"
      ],
      "metadata": {
        "colab": {
          "base_uri": "https://localhost:8080/"
        },
        "id": "QdAxSL4LkrPX",
        "outputId": "a43f3d60-b066-4500-d573-14b790b32b6b"
      },
      "execution_count": 4,
      "outputs": [
        {
          "output_type": "stream",
          "name": "stdout",
          "text": [
            "Confusion Matrix with SMOTE:\n",
            " [[84466   841]\n",
            " [   10   126]]\n",
            "Accuracy with SMOTE: 0.9900401437215454\n",
            "Recall with SMOTE: 0.9264705882352942\n"
          ]
        },
        {
          "output_type": "stream",
          "name": "stderr",
          "text": [
            "/usr/local/lib/python3.10/dist-packages/sklearn/linear_model/_logistic.py:469: ConvergenceWarning: lbfgs failed to converge (status=1):\n",
            "STOP: TOTAL NO. of ITERATIONS REACHED LIMIT.\n",
            "\n",
            "Increase the number of iterations (max_iter) or scale the data as shown in:\n",
            "    https://scikit-learn.org/stable/modules/preprocessing.html\n",
            "Please also refer to the documentation for alternative solver options:\n",
            "    https://scikit-learn.org/stable/modules/linear_model.html#logistic-regression\n",
            "  n_iter_i = _check_optimize_result(\n"
          ]
        }
      ]
    }
  ]
}